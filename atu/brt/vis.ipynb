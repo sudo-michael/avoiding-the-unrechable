{
 "cells": [
  {
   "cell_type": "code",
   "execution_count": null,
   "metadata": {},
   "outputs": [],
   "source": [
    "import numpy as np"
   ]
  }
 ],
 "metadata": {
  "kernelspec": {
   "display_name": "Python 3.8.13 ('atu')",
   "language": "python",
   "name": "python3"
  },
  "language_info": {
   "name": "python",
   "version": "3.8.13"
  },
  "orig_nbformat": 4,
  "vscode": {
   "interpreter": {
    "hash": "4214bc10a245f6439f3bae66e5445d12e253d5a90ce1494a68e76019baf1fa8e"
   }
  }
 },
 "nbformat": 4,
 "nbformat_minor": 2
}
